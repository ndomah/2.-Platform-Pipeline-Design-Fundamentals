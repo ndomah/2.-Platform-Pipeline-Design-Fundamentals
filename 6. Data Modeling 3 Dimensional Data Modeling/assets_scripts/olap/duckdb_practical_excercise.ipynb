{
 "cells": [
  {
   "cell_type": "code",
   "execution_count": 7,
   "id": "7ca5a45a-218b-4258-9744-76d7a1af5121",
   "metadata": {},
   "outputs": [],
   "source": [
    "#importing libraries\n",
    "import duckdb \n",
    "import pandas as pd"
   ]
  },
  {
   "cell_type": "code",
   "execution_count": 8,
   "id": "b3f70a58-141e-49e5-b34f-3227199a81de",
   "metadata": {},
   "outputs": [
    {
     "data": {
      "text/html": [
       "<div>\n",
       "<style scoped>\n",
       "    .dataframe tbody tr th:only-of-type {\n",
       "        vertical-align: middle;\n",
       "    }\n",
       "\n",
       "    .dataframe tbody tr th {\n",
       "        vertical-align: top;\n",
       "    }\n",
       "\n",
       "    .dataframe thead th {\n",
       "        text-align: right;\n",
       "    }\n",
       "</style>\n",
       "<table border=\"1\" class=\"dataframe\">\n",
       "  <thead>\n",
       "    <tr style=\"text-align: right;\">\n",
       "      <th></th>\n",
       "      <th>employee_id</th>\n",
       "      <th>employee_name</th>\n",
       "    </tr>\n",
       "  </thead>\n",
       "  <tbody>\n",
       "    <tr>\n",
       "      <th>0</th>\n",
       "      <td>1</td>\n",
       "      <td>Bernardo Figeroa</td>\n",
       "    </tr>\n",
       "    <tr>\n",
       "      <th>1</th>\n",
       "      <td>2</td>\n",
       "      <td>Ammie Corrio</td>\n",
       "    </tr>\n",
       "  </tbody>\n",
       "</table>\n",
       "</div>"
      ],
      "text/plain": [
       "  employee_id     employee_name\n",
       "0           1  Bernardo Figeroa\n",
       "1           2      Ammie Corrio"
      ]
     },
     "execution_count": 8,
     "metadata": {},
     "output_type": "execute_result"
    }
   ],
   "source": [
    "#creating a dataframe\n",
    "data = {'employee_id':  ['1', '2'],\n",
    "        'employee_name': ['Bernardo Figeroa', 'Ammie Corrio']\n",
    "       }\n",
    "\n",
    "df = pd.DataFrame(data)\n",
    "df"
   ]
  },
  {
   "cell_type": "code",
   "execution_count": 9,
   "id": "643dc483-43e4-4a1b-bb77-e2c67809fa20",
   "metadata": {},
   "outputs": [
    {
     "data": {
      "text/plain": [
       "┌─────────────┬──────────────────┐\n",
       "│ employee_id │  employee_name   │\n",
       "│   varchar   │     varchar      │\n",
       "├─────────────┼──────────────────┤\n",
       "│ 1           │ Bernardo Figeroa │\n",
       "│ 2           │ Ammie Corrio     │\n",
       "└─────────────┴──────────────────┘"
      ]
     },
     "execution_count": 9,
     "metadata": {},
     "output_type": "execute_result"
    }
   ],
   "source": [
    "#querying the table using duckdb\n",
    "duckdb.sql(\"SELECT * from df\")"
   ]
  },
  {
   "cell_type": "code",
   "execution_count": 10,
   "id": "b7492a5f-85bb-4bd3-a5aa-9c8bdd92930d",
   "metadata": {},
   "outputs": [],
   "source": [
    "# Change the path if you have your sales duckDB somewhere else\n",
    "db = duckdb.connect(r'C:\\Users\\niles\\OneDrive\\Desktop\\assets_scripts\\test.duckdb')"
   ]
  }
 ],
 "metadata": {
  "kernelspec": {
   "display_name": "Python 3 (ipykernel)",
   "language": "python",
   "name": "python3"
  },
  "language_info": {
   "codemirror_mode": {
    "name": "ipython",
    "version": 3
   },
   "file_extension": ".py",
   "mimetype": "text/x-python",
   "name": "python",
   "nbconvert_exporter": "python",
   "pygments_lexer": "ipython3",
   "version": "3.12.7"
  }
 },
 "nbformat": 4,
 "nbformat_minor": 5
}
